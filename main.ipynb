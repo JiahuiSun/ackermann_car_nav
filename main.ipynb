{
 "cells": [
  {
   "cell_type": "code",
   "execution_count": 1,
   "metadata": {},
   "outputs": [
    {
     "name": "stderr",
     "output_type": "stream",
     "text": [
      "Failed to load Python extension for LZ4 support. LZ4 compression will not be available.\n"
     ]
    }
   ],
   "source": [
    "import rospy\n",
    "import rosbag\n",
    "import pandas as pd\n",
    "'''\n",
    "需求分析：\n",
    "通过rosbag保存了odom、imu的数据，现在想把这些数据提出去来进行分析，而不是在ros的框架下分析\n",
    "1. 写一个话题订阅者，当rosbag发布话题时，订阅者触发回调函数，保存话题内容为CSV\n",
    "    - 有至少两个话题：\\imu, \\odom，每个话题有一个订阅者\n",
    "    - 我得知道消息类型，才能订阅，才知道怎么保存\n",
    "2. 不必了，rosbag文件直接就能读数据，不用通过发布-订阅模型\n",
    "    - 用哪个？odom or robot_pose_ekf/odom_combined? odom_combined\n",
    "    - read_messages api怎么用？done\n",
    "\n",
    "- 小车坐标系？\n",
    "- 四元数和旋转角的转化？\n",
    "'''"
   ]
  },
  {
   "cell_type": "code",
   "execution_count": 2,
   "metadata": {},
   "outputs": [],
   "source": [
    "bag_file = \"/home/dingrong/Code/robot_nav/dynamic_wall_para3_2023-04-08-16-58-29.bag\"\n",
    "bag = rosbag.Bag(bag_file, 'r')\n",
    "bag_data = bag.read_messages()\n",
    "imu_path = f\"dynamic_wall_para3_imu.csv\"\n",
    "odom_path = f\"dynamic_wall_para3_odom.csv\"\n"
   ]
  },
  {
   "cell_type": "code",
   "execution_count": 3,
   "metadata": {},
   "outputs": [],
   "source": [
    "odom_dict = {\n",
    "    'stamp': [],\n",
    "    'position_x': [],\n",
    "    'position_y': [],\n",
    "    'position_z': [],\n",
    "    'orientation_x': [],\n",
    "    'orientation_y': [],\n",
    "    'orientation_z': [],\n",
    "    'orientation_w': []\n",
    "}\n",
    "imu_dict = {\n",
    "    'stamp': [],\n",
    "    'angular_velocity_x': [],\n",
    "    'angular_velocity_y': [],\n",
    "    'angular_velocity_z': [],\n",
    "    'linear_acceleration_x': [],\n",
    "    'linear_acceleration_y': [],\n",
    "    'linear_acceleration_z': []\n",
    "}\n",
    "for topic, msg, t in bag_data:\n",
    "    if topic == '/imu':\n",
    "        imu_dict['stamp'].append(msg.header.stamp.to_sec())\n",
    "        imu_dict['angular_velocity_x'].append(msg.angular_velocity.x)\n",
    "        imu_dict['angular_velocity_y'].append(msg.angular_velocity.y)\n",
    "        imu_dict['angular_velocity_z'].append(msg.angular_velocity.z)\n",
    "        imu_dict['linear_acceleration_x'].append(msg.linear_acceleration.x)\n",
    "        imu_dict['linear_acceleration_y'].append(msg.linear_acceleration.y)\n",
    "        imu_dict['linear_acceleration_z'].append(msg.linear_acceleration.z)\n",
    "    if topic == '/robot_pose_ekf/odom_combined':\n",
    "        odom_dict['stamp'].append(msg.header.stamp.to_sec())\n",
    "        odom_dict['position_x'].append(msg.pose.pose.position.x)\n",
    "        odom_dict['position_y'].append(msg.pose.pose.position.y)\n",
    "        odom_dict['position_z'].append(msg.pose.pose.position.z)\n",
    "        odom_dict['orientation_x'].append(msg.pose.pose.orientation.x)\n",
    "        odom_dict['orientation_y'].append(msg.pose.pose.orientation.y)\n",
    "        odom_dict['orientation_z'].append(msg.pose.pose.orientation.z)\n",
    "        odom_dict['orientation_w'].append(msg.pose.pose.orientation.w)\n"
   ]
  },
  {
   "cell_type": "code",
   "execution_count": 4,
   "metadata": {},
   "outputs": [],
   "source": [
    "imu_df = pd.DataFrame(imu_dict)\n",
    "odom_df = pd.DataFrame(odom_dict)"
   ]
  },
  {
   "cell_type": "code",
   "execution_count": 5,
   "metadata": {},
   "outputs": [],
   "source": [
    "imu_df.to_csv(imu_path, index=False)\n",
    "odom_df.to_csv(odom_path, index=False)"
   ]
  }
 ],
 "metadata": {
  "kernelspec": {
   "display_name": "Python 3",
   "language": "python",
   "name": "python3"
  },
  "language_info": {
   "codemirror_mode": {
    "name": "ipython",
    "version": 3
   },
   "file_extension": ".py",
   "mimetype": "text/x-python",
   "name": "python",
   "nbconvert_exporter": "python",
   "pygments_lexer": "ipython3",
   "version": "3.6.9"
  },
  "orig_nbformat": 4
 },
 "nbformat": 4,
 "nbformat_minor": 2
}
