{
 "cells": [
  {
   "cell_type": "code",
   "execution_count": 1,
   "metadata": {},
   "outputs": [],
   "source": [
    "import numpy as np\n",
    "import matplotlib.pyplot as plt\n",
    "import pandas as pd\n",
    "import cv2"
   ]
  },
  {
   "cell_type": "code",
   "execution_count": 50,
   "metadata": {},
   "outputs": [],
   "source": [
    "range_res = 0.044\n",
    "end_range = 255\n",
    "ranges = np.arange(0, end_range+1).reshape(-1, 1) * range_res\n",
    "azimuths = np.arange(181).reshape(1, -1) * np.pi / 180\n",
    "xs_idx = ranges * np.cos(azimuths) // range_res\n",
    "ys_idx = ranges * np.sin(azimuths) // range_res\n",
    "df = pd.DataFrame({\n",
    "    'x_idx': xs_idx.flatten().astype(np.int),\n",
    "    'y_idx': ys_idx.flatten().astype(np.int),\n",
    "    'rcs': np.random.randn(np.product(xs_idx.shape))\n",
    "})\n",
    "df_group = df.groupby(['x_idx', 'y_idx'], as_index=False).mean()\n",
    "xs_idx2 = (df_group.x_idx + 255).to_list()\n",
    "ys_idx2 = df_group.y_idx.to_list()\n",
    "rcs = df_group.rcs.to_list()\n",
    "bbox = np.zeros((256*2, 256))\n",
    "bbox[xs_idx2, ys_idx2] = rcs"
   ]
  },
  {
   "cell_type": "code",
   "execution_count": 62,
   "metadata": {},
   "outputs": [
    {
     "data": {
      "text/html": [
       "<div>\n",
       "<style scoped>\n",
       "    .dataframe tbody tr th:only-of-type {\n",
       "        vertical-align: middle;\n",
       "    }\n",
       "\n",
       "    .dataframe tbody tr th {\n",
       "        vertical-align: top;\n",
       "    }\n",
       "\n",
       "    .dataframe thead th {\n",
       "        text-align: right;\n",
       "    }\n",
       "</style>\n",
       "<table border=\"1\" class=\"dataframe\">\n",
       "  <thead>\n",
       "    <tr style=\"text-align: right;\">\n",
       "      <th></th>\n",
       "      <th>x_idx</th>\n",
       "      <th>y_idx</th>\n",
       "      <th>rcs</th>\n",
       "    </tr>\n",
       "  </thead>\n",
       "  <tbody>\n",
       "    <tr>\n",
       "      <th>count</th>\n",
       "      <td>38893.000000</td>\n",
       "      <td>38893.000000</td>\n",
       "      <td>38893.000000</td>\n",
       "    </tr>\n",
       "    <tr>\n",
       "      <th>mean</th>\n",
       "      <td>-0.496542</td>\n",
       "      <td>88.817448</td>\n",
       "      <td>0.001865</td>\n",
       "    </tr>\n",
       "    <tr>\n",
       "      <th>std</th>\n",
       "      <td>110.645427</td>\n",
       "      <td>64.564235</td>\n",
       "      <td>0.970833</td>\n",
       "    </tr>\n",
       "    <tr>\n",
       "      <th>min</th>\n",
       "      <td>-255.000000</td>\n",
       "      <td>0.000000</td>\n",
       "      <td>-4.850919</td>\n",
       "    </tr>\n",
       "    <tr>\n",
       "      <th>25%</th>\n",
       "      <td>-77.000000</td>\n",
       "      <td>34.000000</td>\n",
       "      <td>-0.643944</td>\n",
       "    </tr>\n",
       "    <tr>\n",
       "      <th>50%</th>\n",
       "      <td>0.000000</td>\n",
       "      <td>76.000000</td>\n",
       "      <td>0.004497</td>\n",
       "    </tr>\n",
       "    <tr>\n",
       "      <th>75%</th>\n",
       "      <td>76.000000</td>\n",
       "      <td>135.000000</td>\n",
       "      <td>0.649232</td>\n",
       "    </tr>\n",
       "    <tr>\n",
       "      <th>max</th>\n",
       "      <td>254.000000</td>\n",
       "      <td>254.000000</td>\n",
       "      <td>3.738172</td>\n",
       "    </tr>\n",
       "  </tbody>\n",
       "</table>\n",
       "</div>"
      ],
      "text/plain": [
       "              x_idx         y_idx           rcs\n",
       "count  38893.000000  38893.000000  38893.000000\n",
       "mean      -0.496542     88.817448      0.001865\n",
       "std      110.645427     64.564235      0.970833\n",
       "min     -255.000000      0.000000     -4.850919\n",
       "25%      -77.000000     34.000000     -0.643944\n",
       "50%        0.000000     76.000000      0.004497\n",
       "75%       76.000000    135.000000      0.649232\n",
       "max      254.000000    254.000000      3.738172"
      ]
     },
     "execution_count": 62,
     "metadata": {},
     "output_type": "execute_result"
    }
   ],
   "source": [
    "df_group.describe()"
   ]
  },
  {
   "cell_type": "code",
   "execution_count": 61,
   "metadata": {},
   "outputs": [
    {
     "data": {
      "text/plain": [
       "(254, 0)"
      ]
     },
     "execution_count": 61,
     "metadata": {},
     "output_type": "execute_result"
    }
   ],
   "source": [
    "max(ys_idx2), min(ys_idx2)"
   ]
  },
  {
   "cell_type": "code",
   "execution_count": 9,
   "metadata": {},
   "outputs": [],
   "source": [
    "a = cv2.imread(\"/home/agent/Code/ackermann_car_nav/data/data_20230530_gray/images/train/floor31_h1_120_L_120_angle_30_param1_6.png\")"
   ]
  },
  {
   "cell_type": "code",
   "execution_count": 10,
   "metadata": {},
   "outputs": [
    {
     "data": {
      "text/plain": [
       "((160, 320, 3), 0, 255)"
      ]
     },
     "execution_count": 10,
     "metadata": {},
     "output_type": "execute_result"
    }
   ],
   "source": [
    "a.shape, a.min(), a.max()"
   ]
  },
  {
   "cell_type": "code",
   "execution_count": 13,
   "metadata": {},
   "outputs": [
    {
     "data": {
      "text/plain": [
       "array([[ True,  True,  True, ...,  True,  True,  True],\n",
       "       [ True,  True,  True, ...,  True,  True,  True],\n",
       "       [ True,  True,  True, ...,  True,  True,  True],\n",
       "       ...,\n",
       "       [ True,  True,  True, ...,  True,  True,  True],\n",
       "       [ True,  True,  True, ...,  True,  True,  True],\n",
       "       [ True,  True,  True, ...,  True,  True,  True]])"
      ]
     },
     "execution_count": 13,
     "metadata": {},
     "output_type": "execute_result"
    }
   ],
   "source": [
    "a[..., 0] == a[..., 2]"
   ]
  },
  {
   "cell_type": "code",
   "execution_count": null,
   "metadata": {},
   "outputs": [],
   "source": []
  }
 ],
 "metadata": {
  "kernelspec": {
   "display_name": "Python 3",
   "language": "python",
   "name": "python3"
  },
  "language_info": {
   "codemirror_mode": {
    "name": "ipython",
    "version": 3
   },
   "file_extension": ".py",
   "mimetype": "text/x-python",
   "name": "python",
   "nbconvert_exporter": "python",
   "pygments_lexer": "ipython3",
   "version": "3.8.10"
  },
  "orig_nbformat": 4
 },
 "nbformat": 4,
 "nbformat_minor": 2
}
