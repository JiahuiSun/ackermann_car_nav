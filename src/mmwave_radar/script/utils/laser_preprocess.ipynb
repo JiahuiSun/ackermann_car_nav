{
 "cells": [
  {
   "cell_type": "code",
   "execution_count": 1,
   "metadata": {},
   "outputs": [],
   "source": [
    "import rospy\n",
    "import rosbag\n",
    "from sensor_msgs.msg import PointCloud2\n",
    "from sensor_msgs import point_cloud2\n",
    "import numpy as np\n",
    "import pickle\n",
    "import matplotlib.pyplot as plt\n",
    "import struct\n",
    "from sklearn.cluster import DBSCAN\n",
    "from nlos_sensing import line_by_2p, intersection_of_2line"
   ]
  },
  {
   "cell_type": "code",
   "execution_count": 2,
   "metadata": {},
   "outputs": [],
   "source": [
    "file_path = \"/home/agent/Code/ackermann_car_nav/data/20230530/floor31_h1_120_L_120_angle_30_param1_2023-05-30-15-58-38\"\n",
    "bag = rosbag.Bag(f\"{file_path}.bag\")\n",
    "bag_data = bag.read_messages(topics=['/laser_point_cloud', '/laser_point_cloud2', '/mmwave_radar_point_cloud', '/mmwave_radar_raw_data'])\n",
    "frame_bytes = 196608\n",
    "\n",
    "# 提取3种雷达数据\n",
    "# 我原来想获取同一个时刻下的所有topic，才发现原来各个传感器时间是不一样的，没有任何消息是同时出现的，所以一定有先后时间顺序\n",
    "# FIXME: 用msg.header.stamp.to_sec进行时间戳对齐不对啊\n",
    "laser_list, laser_list2, mmwave_list, mmwave_raw_list = [], [], [], []\n",
    "for topic, msg, t in bag_data:\n",
    "    if topic == '/laser_point_cloud':\n",
    "        points = point_cloud2.read_points_list(\n",
    "            msg, field_names=['x', 'y']\n",
    "        )\n",
    "        x_pos = [p.x for p in points]\n",
    "        y_pos = [p.y for p in points]\n",
    "        point_cloud = np.array([x_pos, y_pos]).T\n",
    "        laser_list.append((t.to_sec(), msg.header.stamp.to_sec(), point_cloud))\n",
    "    if topic == '/laser_point_cloud2':\n",
    "        points = point_cloud2.read_points_list(\n",
    "            msg, field_names=['x', 'y']\n",
    "        )\n",
    "        x_pos = [p.x for p in points]\n",
    "        y_pos = [p.y for p in points]\n",
    "        point_cloud = np.array([x_pos, y_pos]).T\n",
    "        laser_list2.append((t.to_sec(), msg.header.stamp.to_sec(), point_cloud))\n",
    "    if topic == '/mmwave_radar_point_cloud':\n",
    "        points = point_cloud2.read_points_list(\n",
    "            msg, field_names=['x', 'y', 'z', 'vel', 'snr']\n",
    "        )\n",
    "        x_pos = [p.x for p in points]\n",
    "        y_pos = [p.y for p in points]\n",
    "        z_pos = [p.z for p in points]\n",
    "        vel = [p.vel for p in points]\n",
    "        snr = [p.snr for p in points]\n",
    "        point_cloud = np.array([x_pos, y_pos, z_pos, vel, snr]).T\n",
    "        mmwave_list.append((t.to_sec(), msg.header.stamp.to_sec(), point_cloud))\n",
    "    if topic == '/mmwave_radar_raw_data':\n",
    "        adc_pack = struct.pack(f\">{frame_bytes}b\", *msg.data)\n",
    "        adc_unpack = np.frombuffer(adc_pack, dtype=np.int16)\n",
    "        mmwave_raw_list.append((t.to_sec(), msg.header.stamp.to_sec(), adc_unpack))"
   ]
  },
  {
   "cell_type": "code",
   "execution_count": 3,
   "metadata": {},
   "outputs": [
    {
     "data": {
      "text/plain": [
       "(88, 85, 100, 104)"
      ]
     },
     "execution_count": 3,
     "metadata": {},
     "output_type": "execute_result"
    }
   ],
   "source": [
    "len(mmwave_list), len(mmwave_raw_list), len(laser_list), len(laser_list2)"
   ]
  },
  {
   "cell_type": "code",
   "execution_count": 4,
   "metadata": {},
   "outputs": [],
   "source": [
    "# 比谁小，谁小谁就是要遍历的对象\n",
    "def align(list1, list2, k=0, j=0):\n",
    "    len_diff = np.abs(len(list1)-len(list2))\n",
    "    minv, mini = np.inf, 0\n",
    "    if list1[0] <= list2[1]:\n",
    "        for i in range(len_diff):\n",
    "            diff = np.abs(list1[i][k]-list2[0][j])\n",
    "            if diff < minv:\n",
    "                minv = diff\n",
    "                mini = i\n",
    "        list1 = list1[mini:]\n",
    "    else:\n",
    "        for i in range(len_diff):\n",
    "            diff = np.abs(list2[i][k]-list1[0][j])\n",
    "            if diff < minv:\n",
    "                minv = diff\n",
    "                mini = i\n",
    "        list2 = list2[mini:]\n",
    "    len_min = min(len(list1), len(list2))\n",
    "    return list1[:len_min], list2[:len_min], minv, mini\n"
   ]
  },
  {
   "cell_type": "code",
   "execution_count": 5,
   "metadata": {},
   "outputs": [],
   "source": [
    "mmwave_list, mmwave_raw_list, minv, mini = align(mmwave_list, mmwave_raw_list, k=1, j=1)"
   ]
  },
  {
   "cell_type": "code",
   "execution_count": 6,
   "metadata": {},
   "outputs": [
    {
     "data": {
      "text/plain": [
       "(85, 85, 0.0, 1)"
      ]
     },
     "execution_count": 6,
     "metadata": {},
     "output_type": "execute_result"
    }
   ],
   "source": [
    "len(mmwave_list), len(mmwave_raw_list), minv, mini"
   ]
  },
  {
   "cell_type": "code",
   "execution_count": 7,
   "metadata": {},
   "outputs": [],
   "source": [
    "laser_list, mmwave_list, min_v1, min_idx1 = align(laser_list, mmwave_list)\n",
    "laser_list2, mmwave_list, min_v2, min_idx2 = align(laser_list2, mmwave_list)\n"
   ]
  },
  {
   "cell_type": "code",
   "execution_count": 8,
   "metadata": {},
   "outputs": [
    {
     "data": {
      "text/plain": [
       "(85, 85, 0.03529858589172363, 13, 85, 0.04268002510070801, 17)"
      ]
     },
     "execution_count": 8,
     "metadata": {},
     "output_type": "execute_result"
    }
   ],
   "source": [
    "len(laser_list), len(mmwave_list), min_v1, min_idx1, len(laser_list2), min_v2, min_idx2"
   ]
  },
  {
   "cell_type": "code",
   "execution_count": 9,
   "metadata": {},
   "outputs": [
    {
     "data": {
      "text/plain": [
       "(418, 2)"
      ]
     },
     "execution_count": 9,
     "metadata": {},
     "output_type": "execute_result"
    }
   ],
   "source": [
    "## 空间对齐\n",
    "# 用laser2提取小车位姿\n",
    "n_frame = 50\n",
    "laser_n_frame = np.concatenate([p for t, t2, p in laser_list2[:n_frame]], axis=0)\n",
    "local_sensing_range = [-1.5, 0, -2.9, -1]  # 切割小车\n",
    "# local_sensing_range = [-2, 0, -2.9, -2]\n",
    "flag_x = np.logical_and(laser_n_frame[:, 0]>=local_sensing_range[0], laser_n_frame[:, 0]<=local_sensing_range[1])\n",
    "flag_y = np.logical_and(laser_n_frame[:, 1]>=local_sensing_range[2], laser_n_frame[:, 1]<=local_sensing_range[3])\n",
    "flag = np.logical_and(flag_x, flag_y)\n",
    "laser_part = laser_n_frame[flag]\n",
    "laser_part.shape"
   ]
  },
  {
   "cell_type": "code",
   "execution_count": 10,
   "metadata": {},
   "outputs": [
    {
     "data": {
      "text/plain": [
       "4"
      ]
     },
     "execution_count": 10,
     "metadata": {},
     "output_type": "execute_result"
    }
   ],
   "source": [
    "# 先聚类，提取小车的4条腿的点云，取平均\n",
    "filter = DBSCAN(eps=0.03, min_samples=5)\n",
    "db = filter.fit(laser_part)\n",
    "labels = db.labels_\n",
    "n_cluster = len(set(labels[labels>-1]))\n",
    "n_cluster"
   ]
  },
  {
   "cell_type": "code",
   "execution_count": 11,
   "metadata": {},
   "outputs": [
    {
     "data": {
      "text/plain": [
       "[<matplotlib.lines.Line2D at 0x7fd183b9c9d0>]"
      ]
     },
     "execution_count": 11,
     "metadata": {},
     "output_type": "execute_result"
    },
    {
     "data": {
      "image/png": "[encoded data removed]",
      "text/plain": [
       "<Figure size 800x800 with 1 Axes>"
      ]
     },
     "metadata": {},
     "output_type": "display_data"
    }
   ],
   "source": [
    "# 可视化小车的四条腿\n",
    "fig, ax = plt.subplots(figsize=(8, 8))\n",
    "ax.set_xlabel('x(m)')\n",
    "ax.set_ylabel('y(m)')\n",
    "ax.set_xlim([local_sensing_range[0], local_sensing_range[1]])\n",
    "ax.set_ylim([local_sensing_range[2], local_sensing_range[3]])\n",
    "color_panel = ['ro', 'go', 'bo', 'co', 'wo', 'yo', 'mo', 'ko']\n",
    "ax.plot(laser_part[:, 0], laser_part[:, 1], color_panel[-1], ms=2)\n",
    "\n",
    "cluster_list = []\n",
    "for i in range(n_cluster):\n",
    "    cluster = laser_part[labels==i]\n",
    "    cluster_list.append(cluster)\n",
    "    ax.plot(cluster[:, 0], cluster[:, 1], color_panel[i], ms=2)\n",
    "if n_cluster >= 4:\n",
    "    # front_right = np.mean(cluster_list[0], axis=0)\n",
    "    front_right = np.mean(cluster_list[1], axis=0)\n",
    "    # back_right = np.mean(cluster_list[2], axis=0)\n",
    "    back_right = np.mean(cluster_list[3], axis=0)\n",
    "elif n_cluster == 3:\n",
    "    front_right = np.mean(cluster_list[0], axis=0)\n",
    "    back_right = np.mean(cluster_list[1], axis=0)\n",
    "else:\n",
    "    front_right = np.mean(cluster_list[0], axis=0)\n",
    "    back_right = np.mean(cluster_list[1], axis=0)\n",
    "ax.plot(*front_right, 'sy', ms=6)\n",
    "ax.plot(*back_right, 'sy', ms=6)"
   ]
  },
  {
   "cell_type": "code",
   "execution_count": 12,
   "metadata": {},
   "outputs": [
    {
     "data": {
      "text/plain": [
       "0.3192209168712834"
      ]
     },
     "execution_count": 12,
     "metadata": {},
     "output_type": "execute_result"
    }
   ],
   "source": [
    "# np.linalg.norm(back_right-back_left), \n",
    "np.linalg.norm(front_right-back_right)"
   ]
  },
  {
   "cell_type": "code",
   "execution_count": 13,
   "metadata": {},
   "outputs": [
    {
     "data": {
      "text/plain": [
       "111.26830745441075"
      ]
     },
     "execution_count": 13,
     "metadata": {},
     "output_type": "execute_result"
    }
   ],
   "source": [
    "# 根据两条腿计算旋转角度\n",
    "coef = line_by_2p(front_right, back_right)\n",
    "theta = np.arctan(coef[0]) + np.pi if coef[0] < 0 else np.arctan(coef[0])\n",
    "theta * 180 / np.pi"
   ]
  },
  {
   "cell_type": "code",
   "execution_count": 14,
   "metadata": {},
   "outputs": [
    {
     "data": {
      "text/plain": [
       "array([-1.25309812, -1.9292832 ])"
      ]
     },
     "execution_count": 14,
     "metadata": {},
     "output_type": "execute_result"
    }
   ],
   "source": [
    "# 计算小车中心点在标定激光雷达坐标系下的位置\n",
    "k = (front_right[1] - back_right[1]) / (front_right[0] - back_right[0])\n",
    "l = 0.11\n",
    "w = 0.105\n",
    "deltax = l * -np.cos(theta)\n",
    "deltay = l * np.sin(theta)\n",
    "x1 = front_right[0] + deltax\n",
    "y1 = front_right[1] - deltay\n",
    "coef1 = [-1/k, 1/k*x1+y1]\n",
    "\n",
    "deltax = w * np.sin(theta)\n",
    "deltay = w * -np.cos(theta)\n",
    "x2 = back_right[0] - deltax\n",
    "y2 = back_right[1] - deltay\n",
    "coef2 = [k, -k*x2+y2]\n",
    "\n",
    "inter = intersection_of_2line(coef1, coef2)\n",
    "inter"
   ]
  },
  {
   "cell_type": "code",
   "execution_count": 15,
   "metadata": {},
   "outputs": [
    {
     "data": {
      "image/png": "[encoded data removed]",
      "text/plain": [
       "<Figure size 800x800 with 1 Axes>"
      ]
     },
     "execution_count": 15,
     "metadata": {},
     "output_type": "execute_result"
    }
   ],
   "source": [
    "ax.plot(x1, y1, '>m', ms=6)\n",
    "ax.plot(x2, y2, '>m', ms=6)\n",
    "ax.plot(*inter, 'dm', ms=6)\n",
    "fig"
   ]
  },
  {
   "cell_type": "code",
   "execution_count": 16,
   "metadata": {},
   "outputs": [],
   "source": [
    "# 保存结果：时间、laser、laser2、毫米波点云、毫米波原始数据、小车位姿\n",
    "transform = (inter, theta)\n",
    "all_point_cloud = []\n",
    "for i in range(len(mmwave_list)):\n",
    "    tmp = (laser_list[i][0], laser_list[i][2], laser_list2[i][2], mmwave_list[i][2], mmwave_raw_list[i][2], transform)\n",
    "    all_point_cloud.append(tmp)\n",
    "with open(f\"{file_path}.pkl\", 'wb') as f:\n",
    "    pickle.dump(all_point_cloud, f)"
   ]
  },
  {
   "cell_type": "code",
   "execution_count": 17,
   "metadata": {},
   "outputs": [
    {
     "data": {
      "text/plain": [
       "'收数据，做数据预处理；\\n\\nx: tensor或点云\\n    1. RA tensor, 并且我希望只拿出来NLOS那一部分\\n        基于tensor的做法普遍是把整个tensor作为输入，那基于点云的做法，会挑出来部分点云吗？\\n    2. 点云，并且我希望只要NLOS的点云\\n\\ny: 人的bounding box\\n    还是统一到小车坐标系下吧，这样用tensor作为输入的也好处理；\\n    统一到小车坐标系下也不对啊，你得统一到雷达坐标系下\\n\\n怎么获得tensor？原始数据经过fft和music就可以了\\n怎么获得点云？原始数据经过fft和music后，再经过cfar就可以了\\n怎么获取bounding box，并统一到雷达坐标系下？\\n    - 我需要人的点云，从laser2中切分就可以了\\n    - 我需要墙的坐标，这个从laser的点云中拟合，再变换到laser2下\\n    - 有了人的点云和墙的坐标，bounding box就有了，可以变换到雷达坐标系下\\n    - 有了墙的坐标，NLOS的区域、时长也可以知道了，此时可以过滤点云\\n\\n1. 两个激光雷达通过墙面的激光雷达点云进行配准，也可以获得小车位姿，甚至可能更精确？\\n2. 我训练模型时，只预测NLOS的结果吗？至少在我的场景中，LOS有激光雷达点云获取人的bounding box了\\n    但是训练的时候，要不要也对这样的数据进行训练呢？那样的话，我其实把LOS和NLOS看成一样的情况了\\n3. 直观上想，告诉网络用哪面墙反射也有好处吧\\n\\n\\n算法流程：\\n1. laser提取墙面坐标，区分墙面，形成NLOS区域\\n2. laser2提取人的点云，根据墙面坐标，生成bounding box\\n3. 处理毫米波雷达原始数据\\n    - range fft->doppler fft->music, RDA tensor -> CFAR，点云\\n    - range fft->capon, RA tensor -> CFAR，点云 -> doppler fft\\n\\n如果对毫米波结果不加区分，那么现在已经做完了，训练样本(毫米波，bounding box)；\\n但问题是，这样做有很多不是人的点，难道不加过滤地直接作为网络输入？\\n你先做到这一步就可以了\\n'"
      ]
     },
     "execution_count": 17,
     "metadata": {},
     "output_type": "execute_result"
    }
   ],
   "source": [
    "\"\"\"收数据，做数据预处理；\n",
    "\n",
    "x: tensor或点云\n",
    "    1. RA tensor, 并且我希望只拿出来NLOS那一部分\n",
    "        基于tensor的做法普遍是把整个tensor作为输入，那基于点云的做法，会挑出来部分点云吗？\n",
    "    2. 点云，并且我希望只要NLOS的点云\n",
    "\n",
    "y: 人的bounding box\n",
    "    还是统一到小车坐标系下吧，这样用tensor作为输入的也好处理；\n",
    "    统一到小车坐标系下也不对啊，你得统一到雷达坐标系下\n",
    "\n",
    "怎么获得tensor？原始数据经过fft和music就可以了\n",
    "怎么获得点云？原始数据经过fft和music后，再经过cfar就可以了\n",
    "怎么获取bounding box，并统一到雷达坐标系下？\n",
    "    - 我需要人的点云，从laser2中切分就可以了\n",
    "    - 我需要墙的坐标，这个从laser的点云中拟合，再变换到laser2下\n",
    "    - 有了人的点云和墙的坐标，bounding box就有了，可以变换到雷达坐标系下\n",
    "    - 有了墙的坐标，NLOS的区域、时长也可以知道了，此时可以过滤点云\n",
    "\n",
    "1. 两个激光雷达通过墙面的激光雷达点云进行配准，也可以获得小车位姿，甚至可能更精确？\n",
    "2. 我训练模型时，只预测NLOS的结果吗？至少在我的场景中，LOS有激光雷达点云获取人的bounding box了\n",
    "    但是训练的时候，要不要也对这样的数据进行训练呢？那样的话，我其实把LOS和NLOS看成一样的情况了\n",
    "3. 直观上想，告诉网络用哪面墙反射也有好处吧\n",
    "\n",
    "\n",
    "算法流程：\n",
    "1. laser提取墙面坐标，区分墙面，形成NLOS区域\n",
    "2. laser2提取人的点云，根据墙面坐标，生成bounding box\n",
    "3. 处理毫米波雷达原始数据\n",
    "    - range fft->doppler fft->music, RDA tensor -> CFAR，点云\n",
    "    - range fft->capon, RA tensor -> CFAR，点云 -> doppler fft\n",
    "\n",
    "如果对毫米波结果不加区分，那么现在已经做完了，训练样本(毫米波，bounding box)；\n",
    "但问题是，这样做有很多不是人的点，难道不加过滤地直接作为网络输入？\n",
    "你先做到这一步就可以了\n",
    "\"\"\""
   ]
  }
 ],
 "metadata": {
  "kernelspec": {
   "display_name": "Python 3",
   "language": "python",
   "name": "python3"
  },
  "language_info": {
   "codemirror_mode": {
    "name": "ipython",
    "version": 3
   },
   "file_extension": ".py",
   "mimetype": "text/x-python",
   "name": "python",
   "nbconvert_exporter": "python",
   "pygments_lexer": "ipython3",
   "version": "3.8.10"
  },
  "orig_nbformat": 4
 },
 "nbformat": 4,
 "nbformat_minor": 2
}
