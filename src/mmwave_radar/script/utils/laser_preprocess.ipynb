{
 "cells": [
  {
   "cell_type": "code",
   "execution_count": 1,
   "metadata": {},
   "outputs": [
    {
     "name": "stderr",
     "output_type": "stream",
     "text": [
      "Failed to load Python extension for LZ4 support. LZ4 compression will not be available.\n"
     ]
    }
   ],
   "source": [
    "import rospy\n",
    "import rosbag\n",
    "from sensor_msgs.msg import PointCloud2\n",
    "from sensor_msgs import point_cloud2\n",
    "import numpy as np\n",
    "import pickle\n",
    "import matplotlib.pyplot as plt\n",
    "from sklearn.cluster import DBSCAN\n",
    "from nlos_sensing import line_by_2p, intersection_of_2line"
   ]
  },
  {
   "cell_type": "code",
   "execution_count": 2,
   "metadata": {},
   "outputs": [],
   "source": [
    "file_path = \"/home/dingrong/Code/ackermann_car_nav/data/20230530/floor31_h1_120_L_180_angle_30_param2_2023-05-30-16-45-05\"\n",
    "bag = rosbag.Bag(f\"{file_path}.bag\")\n",
    "bag_data = bag.read_messages(topics=['/laser_point_cloud', '/laser_point_cloud2', '/mmwave_radar_point_cloud'])\n",
    "\n",
    "laser_list, laser_list2, mmwave_list = [], [], []\n",
    "for topic, msg, t in bag_data:\n",
    "    if topic == '/laser_point_cloud':\n",
    "        points = point_cloud2.read_points_list(\n",
    "            msg, field_names=['x', 'y']\n",
    "        )\n",
    "        x_pos = [p.x for p in points]\n",
    "        y_pos = [p.y for p in points]\n",
    "        point_cloud = np.array([x_pos, y_pos]).T\n",
    "        laser_list.append((t.to_sec(), point_cloud))\n",
    "    if topic == '/laser_point_cloud2':\n",
    "        points = point_cloud2.read_points_list(\n",
    "            msg, field_names=['x', 'y']\n",
    "        )\n",
    "        x_pos = [p.x for p in points]\n",
    "        y_pos = [p.y for p in points]\n",
    "        point_cloud = np.array([x_pos, y_pos]).T\n",
    "        laser_list2.append((t.to_sec(), point_cloud))\n",
    "    if topic == '/mmwave_radar_point_cloud':\n",
    "        points = point_cloud2.read_points_list(\n",
    "            msg, field_names=['x', 'y', 'z', 'vel', 'snr']\n",
    "        )\n",
    "        x_pos = [p.x for p in points]\n",
    "        y_pos = [p.y for p in points]\n",
    "        z_pos = [p.z for p in points]\n",
    "        vel = [p.vel for p in points]\n",
    "        snr = [p.snr for p in points]\n",
    "        point_cloud = np.array([x_pos, y_pos, z_pos, vel, snr]).T\n",
    "        mmwave_list.append((t.to_sec(), point_cloud))"
   ]
  },
  {
   "cell_type": "code",
   "execution_count": 3,
   "metadata": {},
   "outputs": [],
   "source": [
    "def align_sensors(laser_list, mmwave_list):\n",
    "    laser_len, mmwave_len = len(laser_list), len(mmwave_list)\n",
    "    if laser_len < mmwave_len:\n",
    "        raise Exception(\"Wrong\")\n",
    "    min_idx, min_v = 0, np.inf\n",
    "    for i in range(laser_len-mmwave_len+1):\n",
    "        diff = np.abs(laser_list[i][0] - mmwave_list[0][0])\n",
    "        if diff < min_v:\n",
    "            min_v = diff\n",
    "            min_idx = i\n",
    "    return laser_list[min_idx:]"
   ]
  },
  {
   "cell_type": "code",
   "execution_count": 4,
   "metadata": {},
   "outputs": [],
   "source": [
    "laser_list = align_sensors(laser_list, mmwave_list)\n",
    "laser_list2 = align_sensors(laser_list2, mmwave_list)"
   ]
  },
  {
   "cell_type": "code",
   "execution_count": 5,
   "metadata": {},
   "outputs": [],
   "source": [
    "n_frame = 50\n",
    "laser_n_frame = np.concatenate([p for t, p in laser_list2[:n_frame]], axis=0)"
   ]
  },
  {
   "cell_type": "code",
   "execution_count": 6,
   "metadata": {},
   "outputs": [
    {
     "data": {
      "text/plain": [
       "(429, 2)"
      ]
     },
     "execution_count": 6,
     "metadata": {},
     "output_type": "execute_result"
    }
   ],
   "source": [
    "# local_sensing_range = [-2, -0.5, -2.5, -1]  # 切割小车\n",
    "local_sensing_range = [-2, 0, -2.9, -2]\n",
    "# local_sensing_range = [-8, 2, 0, 1.5]  # 切割人\n",
    "flag_x = np.logical_and(laser_n_frame[:, 0]>=local_sensing_range[0], laser_n_frame[:, 0]<=local_sensing_range[1])\n",
    "flag_y = np.logical_and(laser_n_frame[:, 1]>=local_sensing_range[2], laser_n_frame[:, 1]<=local_sensing_range[3])\n",
    "flag = np.logical_and(flag_x, flag_y)\n",
    "laser_part = laser_n_frame[flag]\n",
    "laser_part.shape"
   ]
  },
  {
   "cell_type": "code",
   "execution_count": 7,
   "metadata": {},
   "outputs": [
    {
     "data": {
      "text/plain": [
       "4"
      ]
     },
     "execution_count": 7,
     "metadata": {},
     "output_type": "execute_result"
    }
   ],
   "source": [
    "# 先聚类，提取右边2堆点云，计算均值\n",
    "filter = DBSCAN(eps=0.02, min_samples=3)\n",
    "db = filter.fit(laser_part)\n",
    "labels = db.labels_\n",
    "n_cluster = len(set(labels[labels>-1]))\n",
    "n_cluster"
   ]
  },
  {
   "cell_type": "code",
   "execution_count": 8,
   "metadata": {},
   "outputs": [
    {
     "data": {
      "text/plain": [
       "[<matplotlib.lines.Line2D at 0x7fd67b8a5240>]"
      ]
     },
     "execution_count": 8,
     "metadata": {},
     "output_type": "execute_result"
    },
    {
     "data": {
      "image/png": "[encoded data removed]",
      "text/plain": [
       "<Figure size 576x576 with 1 Axes>"
      ]
     },
     "metadata": {
      "needs_background": "light"
     },
     "output_type": "display_data"
    }
   ],
   "source": [
    "fig, ax = plt.subplots(figsize=(8, 8))\n",
    "ax.set_xlabel('x(m)')\n",
    "ax.set_ylabel('y(m)')\n",
    "ax.set_xlim([local_sensing_range[0], local_sensing_range[1]])\n",
    "ax.set_ylim([local_sensing_range[2], local_sensing_range[3]])\n",
    "color_panel = ['ro', 'go', 'bo', 'co', 'wo', 'yo', 'mo', 'ko']\n",
    "ax.plot(laser_part[:, 0], laser_part[:, 1], color_panel[-1], ms=2)\n",
    "\n",
    "cluster_list = []\n",
    "for i in range(n_cluster):\n",
    "    cluster = laser_part[labels==i]\n",
    "    cluster_list.append(cluster)\n",
    "    ax.plot(cluster[:, 0], cluster[:, 1], color_panel[i], ms=2)\n",
    "if n_cluster >= 4:\n",
    "    # front_right = np.mean(cluster_list[0], axis=0)\n",
    "    front_right = np.mean(cluster_list[1], axis=0)\n",
    "    # back_right = np.mean(cluster_list[2], axis=0)\n",
    "    back_right = np.mean(cluster_list[3], axis=0)\n",
    "elif n_cluster == 3:\n",
    "    front_right = np.mean(cluster_list[0], axis=0)\n",
    "    back_right = np.mean(cluster_list[1], axis=0)\n",
    "else:\n",
    "    front_right = np.mean(cluster_list[0], axis=0)\n",
    "    back_right = np.mean(cluster_list[1], axis=0)\n",
    "ax.plot(*front_right, 'sy', ms=6)\n",
    "ax.plot(*back_right, 'sy', ms=6)"
   ]
  },
  {
   "cell_type": "code",
   "execution_count": 9,
   "metadata": {},
   "outputs": [
    {
     "data": {
      "text/plain": [
       "0.31131996289791625"
      ]
     },
     "execution_count": 9,
     "metadata": {},
     "output_type": "execute_result"
    }
   ],
   "source": [
    "# np.linalg.norm(back_right-back_left), \n",
    "np.linalg.norm(front_right-back_right)"
   ]
  },
  {
   "cell_type": "code",
   "execution_count": 10,
   "metadata": {},
   "outputs": [
    {
     "data": {
      "text/plain": [
       "114.56971073691246"
      ]
     },
     "execution_count": 10,
     "metadata": {},
     "output_type": "execute_result"
    }
   ],
   "source": [
    "# 根据两条腿计算直线\n",
    "coef = line_by_2p(front_right, back_right)\n",
    "theta = np.arctan(coef[0]) + np.pi if coef[0] < 0 else np.arctan(coef[0])\n",
    "theta * 180 / np.pi"
   ]
  },
  {
   "cell_type": "code",
   "execution_count": 11,
   "metadata": {},
   "outputs": [
    {
     "data": {
      "text/plain": [
       "array([-1.27231678, -2.54684086])"
      ]
     },
     "execution_count": 11,
     "metadata": {},
     "output_type": "execute_result"
    }
   ],
   "source": [
    "# 我想知道，小车中心点在标定激光雷达坐标系下的位置\n",
    "k = (front_right[1] - back_right[1]) / (front_right[0] - back_right[0])\n",
    "l = 0.11\n",
    "w = 0.105\n",
    "deltax = l * -np.cos(theta)\n",
    "deltay = l * np.sin(theta)\n",
    "x1 = front_right[0] + deltax\n",
    "y1 = front_right[1] - deltay\n",
    "coef1 = [-1/k, 1/k*x1+y1]\n",
    "\n",
    "deltax = w * np.sin(theta)\n",
    "deltay = w * -np.cos(theta)\n",
    "x2 = back_right[0] - deltax\n",
    "y2 = back_right[1] - deltay\n",
    "coef2 = [k, -k*x2+y2]\n",
    "\n",
    "inter = intersection_of_2line(coef1, coef2)\n",
    "inter"
   ]
  },
  {
   "cell_type": "code",
   "execution_count": null,
   "metadata": {},
   "outputs": [
    {
     "data": {
      "image/png": "[encoded data removed]",
      "text/plain": [
       "<Figure size 576x576 with 1 Axes>"
      ]
     },
     "execution_count": 12,
     "metadata": {},
     "output_type": "execute_result"
    }
   ],
   "source": [
    "ax.plot(x1, y1, '>m', ms=6)\n",
    "ax.plot(x2, y2, '>m', ms=6)\n",
    "ax.plot(*inter, 'dm', ms=6)\n",
    "fig"
   ]
  },
  {
   "cell_type": "code",
   "execution_count": null,
   "metadata": {},
   "outputs": [],
   "source": [
    "transform = (inter, theta)\n",
    "all_point_cloud = []\n",
    "for i in range(len(mmwave_list)):\n",
    "    tmp = (laser_list[i][0], laser_list[i][1], laser_list2[i][1], mmwave_list[i][1], transform)\n",
    "    all_point_cloud.append(tmp)\n",
    "with open(f\"{file_path}.pkl\", 'wb') as f:\n",
    "    pickle.dump(all_point_cloud, f)"
   ]
  },
  {
   "cell_type": "code",
   "execution_count": null,
   "metadata": {},
   "outputs": [],
   "source": []
  }
 ],
 "metadata": {
  "kernelspec": {
   "display_name": "Python 3",
   "language": "python",
   "name": "python3"
  },
  "language_info": {
   "codemirror_mode": {
    "name": "ipython",
    "version": 3
   },
   "file_extension": ".py",
   "mimetype": "text/x-python",
   "name": "python",
   "nbconvert_exporter": "python",
   "pygments_lexer": "ipython3",
   "version": "3.6.9"
  },
  "orig_nbformat": 4
 },
 "nbformat": 4,
 "nbformat_minor": 2
}
