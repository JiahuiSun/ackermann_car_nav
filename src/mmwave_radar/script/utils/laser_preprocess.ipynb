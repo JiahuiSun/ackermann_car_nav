{
 "cells": [
  {
   "cell_type": "code",
   "execution_count": 1,
   "metadata": {},
   "outputs": [],
   "source": [
    "import rosbag\n",
    "from sensor_msgs import point_cloud2\n",
    "import numpy as np\n",
    "import pickle\n",
    "import matplotlib.pyplot as plt\n",
    "import struct\n",
    "from sklearn.cluster import DBSCAN\n",
    "from nlos_sensing import line_by_2p, intersection_of_2line, line_by_vertical_coef_p, parallel_line_distance, point2line_distance"
   ]
  },
  {
   "cell_type": "code",
   "execution_count": 2,
   "metadata": {},
   "outputs": [
    {
     "data": {
      "text/plain": [
       "(103, 101, 107, 107)"
      ]
     },
     "execution_count": 2,
     "metadata": {},
     "output_type": "execute_result"
    }
   ],
   "source": [
    "file_path = \"/home/agent/Code/ackermann_car_nav/data/20230530/floor31_h1_120_L_60_angle_0_param1_2023-05-30-16-47-49\"\n",
    "bag = rosbag.Bag(f\"{file_path}.bag\")\n",
    "bag_data = bag.read_messages(topics=['/laser_point_cloud', '/laser_point_cloud2', '/mmwave_radar_point_cloud', '/mmwave_radar_raw_data'])\n",
    "frame_bytes = 196608\n",
    "\n",
    "# 我原来想获取同一个时刻下的所有topic，才发现原来各个传感器时间是不一样的，没有任何消息是同时出现的，所以一定有先后时间顺序\n",
    "# FIXME: 用msg.header.stamp.to_sec进行时间戳对齐不对啊\n",
    "laser_list, laser_list2, mmwave_list, mmwave_raw_list = [], [], [], []\n",
    "for topic, msg, t in bag_data:\n",
    "    if topic == '/laser_point_cloud':\n",
    "        points = point_cloud2.read_points_list(\n",
    "            msg, field_names=['x', 'y']\n",
    "        )\n",
    "        x_pos = [p.x for p in points]\n",
    "        y_pos = [p.y for p in points]\n",
    "        point_cloud = np.array([x_pos, y_pos]).T\n",
    "        laser_list.append((t.to_sec(), msg.header.stamp.to_sec(), point_cloud))\n",
    "    if topic == '/laser_point_cloud2':\n",
    "        points = point_cloud2.read_points_list(\n",
    "            msg, field_names=['x', 'y']\n",
    "        )\n",
    "        x_pos = [p.x for p in points]\n",
    "        y_pos = [p.y for p in points]\n",
    "        point_cloud = np.array([x_pos, y_pos]).T\n",
    "        laser_list2.append((t.to_sec(), msg.header.stamp.to_sec(), point_cloud))\n",
    "    if topic == '/mmwave_radar_point_cloud':\n",
    "        points = point_cloud2.read_points_list(\n",
    "            msg, field_names=['x', 'y', 'z', 'vel', 'snr']\n",
    "        )\n",
    "        x_pos = [p.x for p in points]\n",
    "        y_pos = [p.y for p in points]\n",
    "        z_pos = [p.z for p in points]\n",
    "        vel = [p.vel for p in points]\n",
    "        snr = [p.snr for p in points]\n",
    "        point_cloud = np.array([x_pos, y_pos, z_pos, vel, snr]).T\n",
    "        mmwave_list.append((t.to_sec(), msg.header.stamp.to_sec(), point_cloud))\n",
    "    if topic == '/mmwave_radar_raw_data':\n",
    "        adc_pack = struct.pack(f\">{frame_bytes}b\", *msg.data)\n",
    "        adc_unpack = np.frombuffer(adc_pack, dtype=np.int16)\n",
    "        mmwave_raw_list.append((t.to_sec(), msg.header.stamp.to_sec(), adc_unpack))\n",
    "len(mmwave_list), len(mmwave_raw_list), len(laser_list), len(laser_list2)"
   ]
  },
  {
   "cell_type": "code",
   "execution_count": 3,
   "metadata": {},
   "outputs": [],
   "source": [
    "## 小车数据和GT时间对齐\n",
    "# 比谁小，谁小谁就是要遍历的对象\n",
    "def align(list1, list2, k=0, j=0):\n",
    "    len_diff = min(len(list1), len(list2))\n",
    "    minv, mini = np.inf, 0\n",
    "    # 谁先曝光，谁就从头开始遍历，寻找距离对方开头时间最接近的\n",
    "    if list1[0][k] <= list2[0][j]:\n",
    "        for i in range(len_diff):\n",
    "            diff = np.abs(list1[i][k]-list2[0][j])\n",
    "            if diff < minv:\n",
    "                minv = diff\n",
    "                mini = i\n",
    "        list1 = list1[mini:]\n",
    "    else:\n",
    "        for i in range(len_diff):\n",
    "            diff = np.abs(list2[i][k]-list1[0][j])\n",
    "            if diff < minv:\n",
    "                minv = diff\n",
    "                mini = i\n",
    "        list2 = list2[mini:]\n",
    "    len_min = min(len(list1), len(list2))\n",
    "    return list1[:len_min], list2[:len_min], minv, mini\n"
   ]
  },
  {
   "cell_type": "code",
   "execution_count": 4,
   "metadata": {},
   "outputs": [
    {
     "data": {
      "text/plain": [
       "[<matplotlib.lines.Line2D at 0x7f8c8f28bee0>]"
      ]
     },
     "execution_count": 4,
     "metadata": {},
     "output_type": "execute_result"
    },
    {
     "data": {
      "image/png": "[encoded data removed]",
      "text/plain": [
       "<Figure size 2000x400 with 1 Axes>"
      ]
     },
     "metadata": {},
     "output_type": "display_data"
    }
   ],
   "source": [
    "mmwave_t = np.array([t for t, stamp, pc in mmwave_list])\n",
    "mmwave_stamp = np.array([stamp for t, stamp, pc in mmwave_list])\n",
    "mmwave_raw_t = np.array([t for t, stamp, raw in mmwave_raw_list])\n",
    "mmwave_raw_stamp = np.array([stamp for t, stamp, raw in mmwave_raw_list])\n",
    "laser_t = np.array([t for t, stamp, pc in laser_list])\n",
    "laser_stamp = np.array([stamp for t, stamp, pc in laser_list])\n",
    "laser2_t = np.array([t for t, stamp, pc in laser_list2])\n",
    "laser2_stamp = np.array([stamp for t, stamp, pc in laser_list2])\n",
    "\n",
    "fig, ax = plt.subplots(figsize=(20, 4))\n",
    "ax.plot(mmwave_t, np.ones(len(mmwave_t)), 'or', ms=0.5)\n",
    "ax.plot(mmwave_stamp, np.ones(len(mmwave_stamp))*2, 'or', ms=0.5)\n",
    "ax.plot(mmwave_raw_t, np.ones(len(mmwave_raw_t))*1.1, 'ob', ms=0.5)\n",
    "ax.plot(mmwave_raw_stamp, np.ones(len(mmwave_raw_stamp))*1.9, 'ob', ms=0.5)\n",
    "ax.plot(laser_t, np.ones(len(laser_t))*1.2, 'og', ms=0.5)\n",
    "ax.plot(laser_stamp, np.ones(len(laser_stamp))*1.8, 'og', ms=0.5)\n",
    "ax.plot(laser2_t, np.ones(len(laser2_t))*1.3, 'ok', ms=0.5)\n",
    "ax.plot(laser2_stamp, np.ones(len(laser2_stamp))*1.7, 'ok', ms=0.5)"
   ]
  },
  {
   "cell_type": "code",
   "execution_count": 5,
   "metadata": {},
   "outputs": [
    {
     "data": {
      "text/plain": [
       "(91, 90, 90, 90)"
      ]
     },
     "execution_count": 5,
     "metadata": {},
     "output_type": "execute_result"
    }
   ],
   "source": [
    "data_list = [mmwave_list, mmwave_raw_list, laser_list, laser_list2]\n",
    "# 找到最早开始最晚结束的两个人进行align，这样一定是最短的\n",
    "latest_begin = np.argmax([\n",
    "    mmwave_stamp[0], mmwave_raw_stamp[0], laser_stamp[0], laser2_stamp[0]\n",
    "])\n",
    "earliest_end = np.argmin([\n",
    "    mmwave_stamp[-1], mmwave_raw_stamp[-1], laser_stamp[-1], laser2_stamp[-1]\n",
    "])\n",
    "print(latest_begin, earliest_end)\n",
    "# 如果是同一个人最晚开始最早结束\n",
    "if latest_begin == earliest_end:\n",
    "    pivot = latest_begin\n",
    "    for i in range(len(data_list)):\n",
    "        if i == pivot:\n",
    "            continue\n",
    "        data_list[i], data_list[pivot], _, _ = align(data_list[i], data_list[pivot], k=1, j=1)\n",
    "else:\n",
    "    data_list[latest_begin], data_list[earliest_end], _, _ = align(data_list[latest_begin], data_list[earliest_end], k=1, j=1)\n",
    "    pivot = latest_begin\n",
    "    for i in range(len(data_list)):\n",
    "        if i in [latest_begin, earliest_end]:\n",
    "            continue\n",
    "        else:\n",
    "            data_list[i], data_list[pivot], _, _ = align(data_list[i], data_list[pivot], k=1, j=1)\n",
    "mmwave_list, mmwave_raw_list, laser_list, laser_list2 = data_list\n",
    "len(mmwave_list), len(mmwave_raw_list), len(laser_list), len(laser_list2)"
   ]
  },
  {
   "cell_type": "code",
   "execution_count": 7,
   "metadata": {},
   "outputs": [
    {
     "data": {
      "text/plain": [
       "[<matplotlib.lines.Line2D at 0x7f8c8cc64a30>]"
      ]
     },
     "execution_count": 7,
     "metadata": {},
     "output_type": "execute_result"
    },
    {
     "data": {
      "image/png": "[encoded data removed]",
      "text/plain": [
       "<Figure size 2000x400 with 1 Axes>"
      ]
     },
     "metadata": {},
     "output_type": "display_data"
    }
   ],
   "source": [
    "mmwave_t = np.array([t for t, stamp, pc in mmwave_list])\n",
    "mmwave_stamp = np.array([stamp for t, stamp, pc in mmwave_list])\n",
    "mmwave_raw_t = np.array([t for t, stamp, raw in mmwave_raw_list])\n",
    "mmwave_raw_stamp = np.array([stamp for t, stamp, raw in mmwave_raw_list])\n",
    "laser_t = np.array([t for t, stamp, pc in laser_list])\n",
    "laser_stamp = np.array([stamp for t, stamp, pc in laser_list])\n",
    "laser2_t = np.array([t for t, stamp, pc in laser_list2])\n",
    "laser2_stamp = np.array([stamp for t, stamp, pc in laser_list2])\n",
    "\n",
    "fig, ax = plt.subplots(figsize=(20, 4))\n",
    "ax.plot(mmwave_t, np.ones(len(mmwave_t)), 'or', ms=0.5)\n",
    "ax.plot(mmwave_stamp, np.ones(len(mmwave_stamp))*2, 'or', ms=0.5)\n",
    "ax.plot(mmwave_raw_t, np.ones(len(mmwave_raw_t))*1.1, 'ob', ms=0.5)\n",
    "ax.plot(mmwave_raw_stamp, np.ones(len(mmwave_raw_stamp))*1.9, 'ob', ms=0.5)\n",
    "ax.plot(laser_t, np.ones(len(laser_t))*1.2, 'og', ms=0.5)\n",
    "ax.plot(laser_stamp, np.ones(len(laser_stamp))*1.8, 'og', ms=0.5)\n",
    "ax.plot(laser2_t, np.ones(len(laser2_t))*1.3, 'ok', ms=0.5)\n",
    "ax.plot(laser2_stamp, np.ones(len(laser2_stamp))*1.7, 'ok', ms=0.5)"
   ]
  },
  {
   "cell_type": "code",
   "execution_count": 8,
   "metadata": {},
   "outputs": [
    {
     "data": {
      "text/plain": [
       "(369, 2)"
      ]
     },
     "execution_count": 8,
     "metadata": {},
     "output_type": "execute_result"
    }
   ],
   "source": [
    "## 空间对齐\n",
    "# 用laser2提取小车位姿\n",
    "n_frame = 50\n",
    "laser_n_frame = np.concatenate([p for t, t2, p in laser_list2[:n_frame]], axis=0)\n",
    "local_sensing_range = [-2.3, 0, -2.75, -1]  # 切割小车\n",
    "# local_sensing_range = [-2, 0, -2.9, -2]\n",
    "flag_x = np.logical_and(laser_n_frame[:, 0]>=local_sensing_range[0], laser_n_frame[:, 0]<=local_sensing_range[1])\n",
    "flag_y = np.logical_and(laser_n_frame[:, 1]>=local_sensing_range[2], laser_n_frame[:, 1]<=local_sensing_range[3])\n",
    "flag = np.logical_and(flag_x, flag_y)\n",
    "laser_part = laser_n_frame[flag]\n",
    "laser_part.shape"
   ]
  },
  {
   "cell_type": "code",
   "execution_count": 9,
   "metadata": {},
   "outputs": [
    {
     "data": {
      "text/plain": [
       "4"
      ]
     },
     "execution_count": 9,
     "metadata": {},
     "output_type": "execute_result"
    }
   ],
   "source": [
    "# 先聚类，提取小车的4条腿的点云，取平均\n",
    "filter = DBSCAN(eps=0.03, min_samples=5)\n",
    "db = filter.fit(laser_part)\n",
    "labels = db.labels_\n",
    "n_cluster = len(set(labels[labels>-1]))\n",
    "n_cluster"
   ]
  },
  {
   "cell_type": "code",
   "execution_count": 10,
   "metadata": {},
   "outputs": [
    {
     "data": {
      "text/plain": [
       "[<matplotlib.lines.Line2D at 0x7f8c8cbfc820>]"
      ]
     },
     "execution_count": 10,
     "metadata": {},
     "output_type": "execute_result"
    },
    {
     "data": {
      "image/png": "[encoded data removed]",
      "text/plain": [
       "<Figure size 400x400 with 1 Axes>"
      ]
     },
     "metadata": {},
     "output_type": "display_data"
    }
   ],
   "source": [
    "# 可视化小车的四条腿\n",
    "fig, ax = plt.subplots(figsize=(4, 4))\n",
    "ax.set_xlabel('x(m)')\n",
    "ax.set_ylabel('y(m)')\n",
    "ax.set_xlim([local_sensing_range[0], local_sensing_range[1]])\n",
    "ax.set_ylim([local_sensing_range[2], local_sensing_range[3]])\n",
    "color_panel = ['ro', 'go', 'bo', 'co', 'wo', 'yo', 'mo', 'ko']\n",
    "ax.plot(laser_part[:, 0], laser_part[:, 1], color_panel[-1], ms=2)\n",
    "\n",
    "# 找距离原点最近的腿，认为是front_right\n",
    "cluster_list = []\n",
    "nearest_dist, nearest_idx = np.inf, -1\n",
    "for i in range(n_cluster):\n",
    "    cluster = laser_part[labels==i]\n",
    "    center = np.mean(cluster, axis=0)\n",
    "    if nearest_dist > np.linalg.norm(center):\n",
    "        nearest_dist = np.linalg.norm(center)\n",
    "        nearest_idx = i\n",
    "    cluster_list.append(center)\n",
    "    ax.plot(cluster[:, 0], cluster[:, 1], color_panel[i], ms=2)\n",
    "front_right = cluster_list[nearest_idx]\n",
    "\n",
    "# 找除front_right外x值最大的腿，认为是back_right\n",
    "max_x, max_x_idx = -np.inf, -1\n",
    "for i in range(n_cluster):\n",
    "    if i == nearest_idx:\n",
    "        continue\n",
    "    if cluster_list[i][0] > max_x:\n",
    "        max_x = cluster_list[i][0]\n",
    "        max_x_idx = i\n",
    "back_right = cluster_list[max_x_idx]\n",
    "\n",
    "ax.plot(*front_right, 'sy', ms=3)\n",
    "ax.plot(*back_right, 'sy', ms=3)"
   ]
  },
  {
   "cell_type": "code",
   "execution_count": 11,
   "metadata": {},
   "outputs": [
    {
     "data": {
      "text/plain": [
       "(90.86928773083105, array([-1.3168399, -1.365505 ]), 0.30309147608402354)"
      ]
     },
     "execution_count": 11,
     "metadata": {},
     "output_type": "execute_result"
    }
   ],
   "source": [
    "# 根据两条腿计算旋转角度\n",
    "coef = line_by_2p(front_right, back_right)\n",
    "theta = np.arctan(coef[0]) + np.pi if coef[0] < 0 else np.arctan(coef[0])\n",
    "# 计算小车中心点在标定激光雷达坐标系下的位置\n",
    "AD = 0.12\n",
    "CD = 0.105\n",
    "AB = back_right - front_right\n",
    "OD = front_right + AB * AD / np.linalg.norm(AB)\n",
    "coef1 = line_by_vertical_coef_p(coef, OD)\n",
    "coef2a, coef2b = parallel_line_distance(coef, CD)\n",
    "coef2 = coef2a if point2line_distance(coef2a, [0, 0]) > point2line_distance(coef2b, [0, 0]) else coef2b\n",
    "inter = intersection_of_2line(coef1, coef2)\n",
    "theta*180/np.pi, inter, np.linalg.norm(AB)"
   ]
  },
  {
   "cell_type": "code",
   "execution_count": 12,
   "metadata": {},
   "outputs": [
    {
     "data": {
      "image/png": "[encoded data removed]",
      "text/plain": [
       "<Figure size 400x400 with 1 Axes>"
      ]
     },
     "execution_count": 12,
     "metadata": {},
     "output_type": "execute_result"
    }
   ],
   "source": [
    "ax.plot(*OD, '>m', ms=3)\n",
    "ax.plot(*inter, 'dm', ms=3)\n",
    "fig"
   ]
  },
  {
   "cell_type": "code",
   "execution_count": 12,
   "metadata": {},
   "outputs": [],
   "source": [
    "# 保存结果：时间、laser、laser2、毫米波点云、毫米波原始数据、小车位姿\n",
    "transform = (inter, theta)\n",
    "all_point_cloud = []\n",
    "for i in range(len(mmwave_list)):\n",
    "    tmp = (laser_list[i][1], laser_list[i][2], laser_list2[i][2], mmwave_list[i][2], mmwave_raw_list[i][2], transform)\n",
    "    all_point_cloud.append(tmp)\n",
    "with open(f\"{file_path}.pkl\", 'wb') as f:\n",
    "    pickle.dump(all_point_cloud, f)"
   ]
  },
  {
   "cell_type": "code",
   "execution_count": null,
   "metadata": {},
   "outputs": [],
   "source": []
  }
 ],
 "metadata": {
  "kernelspec": {
   "display_name": "Python 3",
   "language": "python",
   "name": "python3"
  },
  "language_info": {
   "codemirror_mode": {
    "name": "ipython",
    "version": 3
   },
   "file_extension": ".py",
   "mimetype": "text/x-python",
   "name": "python",
   "nbconvert_exporter": "python",
   "pygments_lexer": "ipython3",
   "version": "3.8.10"
  },
  "orig_nbformat": 4
 },
 "nbformat": 4,
 "nbformat_minor": 2
}
