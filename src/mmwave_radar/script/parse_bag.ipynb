{
 "cells": [
  {
   "cell_type": "code",
   "execution_count": 1,
   "metadata": {},
   "outputs": [
    {
     "name": "stderr",
     "output_type": "stream",
     "text": [
      "Failed to load Python extension for LZ4 support. LZ4 compression will not be available.\n"
     ]
    }
   ],
   "source": [
    "# bag文件解析，并理解ros中旋转是\n",
    "import rosbag\n",
    "import pandas as pd"
   ]
  },
  {
   "cell_type": "code",
   "execution_count": 2,
   "metadata": {},
   "outputs": [],
   "source": [
    "bag_path = \"wall_exp2_2023-05-12-20-18-41.bag\"\n",
    "imu_path = 'wall_exp2_2023-05-12-20-18-41_livox_imu.csv'\n",
    "odom_path = 'wall_exp2_2023-05-12-20-18-41_odom.csv'\n",
    "livox_odom_path = 'wall_exp2_2023-05-12-20-18-41_livox_odom.csv'\n",
    "bag = rosbag.Bag(bag_path, 'r')\n",
    "bag_data = bag.read_messages()\n",
    "\n",
    "livox_odom = {\n",
    "    'time': [],\n",
    "    'position_x': [],\n",
    "    'position_y': [],\n",
    "    'position_z': [],\n",
    "    'orientation_x': [],\n",
    "    'orientation_y': [],\n",
    "    'orientation_z': [],\n",
    "    'orientation_w': []\n",
    "}\n",
    "odom_dict = {\n",
    "    'stamp': [],\n",
    "    'position_x': [],\n",
    "    'position_y': [],\n",
    "    'position_z': [],\n",
    "    'orientation_x': [],\n",
    "    'orientation_y': [],\n",
    "    'orientation_z': [],\n",
    "    'orientation_w': [],\n",
    "    'linear_velocity_x': [],\n",
    "    'linear_velocity_y': [],\n",
    "    'linear_velocity_z': [],\n",
    "    'angular_velocity_x': [],\n",
    "    'angular_velocity_y': [],\n",
    "    'angular_velocity_z': []\n",
    "}\n",
    "livox_imu = {\n",
    "    'stamp': [],\n",
    "    'orientation_x': [],\n",
    "    'orientation_y': [],\n",
    "    'orientation_z': [],\n",
    "    'orientation_w': [],\n",
    "    'angular_velocity_x': [],\n",
    "    'angular_velocity_y': [],\n",
    "    'angular_velocity_z': [],\n",
    "    'linear_acceleration_x': [],\n",
    "    'linear_acceleration_y': [],\n",
    "    'linear_acceleration_z': []\n",
    "}"
   ]
  },
  {
   "cell_type": "code",
   "execution_count": 3,
   "metadata": {},
   "outputs": [],
   "source": [
    "for topic, msg, t in bag_data:\n",
    "    if topic == '/aft_mapped_to_init_high_frec':\n",
    "        livox_odom['stamp'].append(t.to_sec())\n",
    "        livox_odom['position_x'].append(msg.pose.pose.position.x)\n",
    "        livox_odom['position_y'].append(msg.pose.pose.position.y)\n",
    "        livox_odom['position_z'].append(msg.pose.pose.position.z)\n",
    "        livox_odom['orientation_x'].append(msg.pose.pose.orientation.x)\n",
    "        livox_odom['orientation_y'].append(msg.pose.pose.orientation.y)\n",
    "        livox_odom['orientation_z'].append(msg.pose.pose.orientation.z)\n",
    "        livox_odom['orientation_w'].append(msg.pose.pose.orientation.w)\n",
    "    if topic == '/livox/imu':\n",
    "        livox_imu['stamp'].append(t.to_sec())\n",
    "        livox_imu['orientation_x'].append(msg.orientation.x)\n",
    "        livox_imu['orientation_y'].append(msg.orientation.y)\n",
    "        livox_imu['orientation_z'].append(msg.orientation.z)\n",
    "        livox_imu['orientation_w'].append(msg.orientation.w)\n",
    "        livox_imu['angular_velocity_x'].append(msg.angular_velocity.x)\n",
    "        livox_imu['angular_velocity_y'].append(msg.angular_velocity.y)\n",
    "        livox_imu['angular_velocity_z'].append(msg.angular_velocity.z)\n",
    "        livox_imu['linear_acceleration_x'].append(msg.linear_acceleration.x)\n",
    "        livox_imu['linear_acceleration_y'].append(msg.linear_acceleration.y)\n",
    "        livox_imu['linear_acceleration_z'].append(msg.linear_acceleration.z)\n",
    "    if topic == '/odom':\n",
    "        odom_dict['stamp'].append(t.to_sec())\n",
    "        odom_dict['position_x'].append(msg.pose.pose.position.x)\n",
    "        odom_dict['position_y'].append(msg.pose.pose.position.y)\n",
    "        odom_dict['position_z'].append(msg.pose.pose.position.z)\n",
    "        odom_dict['orientation_x'].append(msg.pose.pose.orientation.x)\n",
    "        odom_dict['orientation_y'].append(msg.pose.pose.orientation.y)\n",
    "        odom_dict['orientation_z'].append(msg.pose.pose.orientation.z)\n",
    "        odom_dict['orientation_w'].append(msg.pose.pose.orientation.w)\n",
    "        odom_dict['linear_velocity_x'].append(msg.twist.twist.linear.x)\n",
    "        odom_dict['linear_velocity_y'].append(msg.twist.twist.linear.y)\n",
    "        odom_dict['linear_velocity_z'].append(msg.twist.twist.linear.z)\n",
    "        odom_dict['angular_velocity_x'].append(msg.twist.twist.angular.x)\n",
    "        odom_dict['angular_velocity_y'].append(msg.twist.twist.angular.y)\n",
    "        odom_dict['angular_velocity_z'].append(msg.twist.twist.angular.z)"
   ]
  },
  {
   "cell_type": "code",
   "execution_count": 4,
   "metadata": {},
   "outputs": [],
   "source": [
    "livox_imu_df = pd.DataFrame(livox_imu)\n",
    "odom_df = pd.DataFrame(odom_dict)\n",
    "livox_odom_df = pd.DataFrame(livox_odom)"
   ]
  },
  {
   "cell_type": "code",
   "execution_count": null,
   "metadata": {},
   "outputs": [],
   "source": [
    "livox_imu_df.to_csv(imu_path, index=False)\n",
    "odom_df.to_csv(odom_path, index=False)\n",
    "livox_odom_df.to_csv(livox_odom_path, index=False)\n"
   ]
  }
 ],
 "metadata": {
  "kernelspec": {
   "display_name": "Python 3",
   "language": "python",
   "name": "python3"
  },
  "language_info": {
   "codemirror_mode": {
    "name": "ipython",
    "version": 3
   },
   "file_extension": ".py",
   "mimetype": "text/x-python",
   "name": "python",
   "nbconvert_exporter": "python",
   "pygments_lexer": "ipython3",
   "version": "3.6.9"
  },
  "orig_nbformat": 4
 },
 "nbformat": 4,
 "nbformat_minor": 2
}
