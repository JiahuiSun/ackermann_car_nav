{
 "cells": [
  {
   "cell_type": "code",
   "execution_count": null,
   "metadata": {},
   "outputs": [],
   "source": [
    "\"\"\"\n",
    "需求分析：\n",
    "- 订阅激光点云数据\n",
    "- 提取xy坐标\n",
    "- 画图看看\n",
    "- 直线拟合\n",
    "\n",
    "\"\"\"\n",
    "import rospy\n",
    "from sensor_msgs.msg import PointCloud2\n"
   ]
  }
 ],
 "metadata": {
  "language_info": {
   "name": "python"
  },
  "orig_nbformat": 4
 },
 "nbformat": 4,
 "nbformat_minor": 2
}
